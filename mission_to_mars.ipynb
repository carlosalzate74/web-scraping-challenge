{
 "cells": [
  {
   "cell_type": "markdown",
   "metadata": {},
   "source": [
    "# Mision To Mars"
   ]
  },
  {
   "cell_type": "code",
   "execution_count": 1,
   "metadata": {},
   "outputs": [],
   "source": [
    "%reload_ext lab_black"
   ]
  },
  {
   "cell_type": "code",
   "execution_count": 2,
   "metadata": {},
   "outputs": [],
   "source": [
    "import requests\n",
    "import pandas as pd\n",
    "from selenium import webdriver\n",
    "from bs4 import BeautifulSoup"
   ]
  },
  {
   "cell_type": "markdown",
   "metadata": {},
   "source": [
    "# Reflect Tables into SQLAlchemy ORM"
   ]
  },
  {
   "cell_type": "code",
   "execution_count": 36,
   "metadata": {},
   "outputs": [],
   "source": [
    "# Define NASA News url\n",
    "BASE_URL = \"https://mars.nasa.gov/news/?page=0&per_page=40&order=publish_date+desc%2Ccreated_at+desc&search=&category=19%2C165%2C184%2C204&blank_scope=Latest\"\n",
    "\n",
    "driver = webdriver.Firefox()\n",
    "driver.get(BASE_URL)\n",
    "driver.implicitly_wait(10)\n",
    "html = driver.page_source\n",
    "driver.close()\n",
    "\n",
    "#Loading page\n",
    "soup = BeautifulSoup(html, \"html.parser\")"
   ]
  },
  {
   "cell_type": "code",
   "execution_count": 45,
   "metadata": {},
   "outputs": [
    {
     "data": {
      "text/plain": [
       "[(\"A Year of Surprising Science From NASA's InSight Mars Mission\",\n",
       "  \"A batch of new papers summarizes the lander's findings above and below the surface of the Red Planet.\"),\n",
       " (\"Mars InSight Lander to Push on Top of the 'Mole'\",\n",
       "  'Engineers have a plan for pushing down on the heat probe, which has been stuck at the Martian surface for a year.'),\n",
       " ('NASA Adds Return Sample Scientists to Mars 2020 Leadership Team',\n",
       "  'The leadership council for Mars 2020 science added two new members who represent the interests of scientists destined to handle and study the first samples from Red Planet.'),\n",
       " (\"NASA's Mars Reconnaissance Orbiter Undergoes Memory Update\",\n",
       "  'Other orbiters will continue relaying data from Mars surface missions for a two-week period.'),\n",
       " (\"NASA's Mars 2020 Rover Goes Coast-to-Coast to Prep for Launch\",\n",
       "  \"The agency's first step in returning rocks from Mars just arrived at Kennedy Space Center. The Mars 2020 team now begins readying for a launch to the Red Planet this July.\"),\n",
       " ('NASA Prepares for Moon and Mars With New Addition to Its Deep Space Network',\n",
       "  'Robotic spacecraft will be able to communicate with the dish using radio waves and lasers.'),\n",
       " ('NASA Administrator Statement on Moon to Mars Initiative, FY 2021 Budget',\n",
       "  \"Jim Bridenstine addresses NASA's ambitious plans for the coming years, including Mars Sample Return.\"),\n",
       " (\"All About the Laser (and Microphone) Atop Mars 2020, NASA's Next Rover\",\n",
       "  'SuperCam is a rock-vaporizing instrument that will help scientists hunt for Mars fossils.'),\n",
       " (\"NASA's MAVEN Explores Mars to Understand Radio Interference at Earth\",\n",
       "  'NASA’s MAVEN spacecraft has discovered “layers” and “rifts” in the electrically charged part of the upper atmosphere of Mars.'),\n",
       " (\"Nine Finalists Chosen in NASA's Mars 2020 Rover Naming Contest\",\n",
       "  \"Nine finalists have been chosen in the essay contest for K-12 students across U.S. to name NASA's next Mars rover. Now you can help by voting for your favorite. \"),\n",
       " (\"NASA's Mars 2020 Rover Closer to Getting Its Name\",\n",
       "  \"155 students from across the U.S. have been chosen as semifinalists in NASA's essay contest to name the Mars 2020 rover, and see it launch from Cape Canaveral this July.\"),\n",
       " (\"Media Get a Close-Up of NASA's Mars 2020 Rover\",\n",
       "  \"The clean room at NASA's Jet Propulsion Laboratory was open to the media to see NASA's next Mars explorer before it leaves for Florida in preparation for a summertime launch.\"),\n",
       " ('Space History Is Made in This NASA Robot Factory',\n",
       "  \"From rockets to rovers, JPL's Spacecraft Assembly Facility has been at the center of robotic spaceflight. Here's a closer look at what makes it so special.\"),\n",
       " (\"NASA's Mars 2020 Rover Completes Its First Drive\",\n",
       "  'In a 10-plus-hour marathon, the rover steered, turned and drove in 3-foot (1-meter) increments over small ramps.'),\n",
       " (\"NASA's MAVEN Maps Winds in the Martian Upper Atmosphere that Mirror the Terrain Below and Gives Clues to Martian Climate\",\n",
       "  'Researchers have created the first map of wind circulation in the upper atmosphere of a planet besides Earth, using data from NASA’s MAVEN spacecraft that were collected during the last two years.'),\n",
       " (\"Newfound Martian Aurora Actually the Most Common; Sheds Light on Mars' Changing Climate\",\n",
       "  'A type of Martian aurora first identified by NASA’s MAVEN spacecraft in 2016 is actually the most common form of aurora occurring on the Red Planet, according to new results from the mission.'),\n",
       " (\"NASA's Treasure Map for Water Ice on Mars\",\n",
       "  'A new study identifies frozen water just below the Martian surface, where astronauts could easily dig it up.'),\n",
       " ('Two Rovers to Roll on Mars Again: Curiosity and Mars 2020',\n",
       "  'They look like twins. But under the hood, the rover currently exploring the Red Planet and the one launching there this summer have distinct science tools and roles to play.'),\n",
       " (\"NASA's Briefcase-Size MarCO Satellite Picks Up Honors\",\n",
       "  'The twin spacecraft, the first of their kind to fly into deep space, earn a Laureate from Aviation Week & Space Technology.'),\n",
       " ('Global Storms on Mars Launch Dust Towers Into the Sky',\n",
       "  'A Mars Dust Tower Stands Out Dust storms are common on Mars. But every decade or so, something unpredictable happens: a series of runaway storms break out, covering the entire planet in a dusty haze.'),\n",
       " ('NASA Updates Mars 2020 Mission Environmental Review',\n",
       "  'NASA and the Department of Energy have completed a more detailed risk analysis for the Mars 2020 rover launch from Florida.'),\n",
       " ('Two of a Space Kind: Apollo 12 and Mars 2020',\n",
       "  'Apollo 12 and the upcoming Mars 2020 mission may be separated by half a century, but they share several goals unique in the annals of space exploration.'),\n",
       " ('Mars Scientists Investigate Ancient Life in Australia',\n",
       "  \"Teams with NASA's Mars 2020 and ESA's ExoMars practiced hunting for fossilized microbial life in the Australian Outback in preparation for their Red Planet missions. \"),\n",
       " (\"NASA's Mars 2020 Will Hunt for Microscopic Fossils\",\n",
       "  \"A new paper identifies a ring of minerals at the rover's landing site that are ideal for fossilizing microbial life.\"),\n",
       " ('With Mars Methane Mystery Unsolved, Curiosity Serves Scientists a New One: Oxygen',\n",
       "  'For the first time in the history of space exploration, scientists have measured the seasonal changes in the gases that fill the air directly above the surface of Gale Crater on Mars. '),\n",
       " (\"NASA's Mars 2020 Heads Into the Test Chamber\",\n",
       "  'In this time-lapse video taken at JPL, engineers move the Mars 2020 rover into a large vacuum chamber for testing in Mars-like environmental conditions.'),\n",
       " (\"Screening Soon: 'The Pathfinders' Trains Lens on Mars\",\n",
       "  'With the Mars 2020 mission ramping up, the documentary — the first of four about past JPL missions to the Red Planet to be shown at Caltech — tells a gripping backstory.'),\n",
       " (\"InSight's 'Mole' Team Peers into the Pit\",\n",
       "  'Efforts to save the heat probe continue.'),\n",
       " (\"Common Questions about InSight's 'Mole'\",\n",
       "  'There\\'s a new plan to get InSight\\'s \"mole\" moving again. The following Q&As with two members of the team answer some of the most common questions about the burrowing device, part of a science instrument called the Heat Flow and Physical Properties Package (HP3).'),\n",
       " ('Mars 2020 Stands on Its Own Six Wheels',\n",
       "  \"In time-lapse video, taken at JPL, captures the first time NASA's Mars 2020 rover carries its full weight on its legs and wheels.\"),\n",
       " ('New Selfie Shows Curiosity, the Mars Chemist',\n",
       "  'The NASA rover performed a special chemistry experiment at the location captured in its newest self-portrait.'),\n",
       " ('Naming a NASA Mars Rover Can Change Your Life',\n",
       "  'Want to name the robotic scientist NASA is sending to Mars in 2020? The student who named Curiosity — the rover currently exploring Mars — will tell you this is an opportunity worth taking.'),\n",
       " ('Mars 2020 Unwrapped and Ready for More Testing',\n",
       "  \"In time-lapse video, bunny-suited engineers remove the inner layer of protective foil on NASA's Mars 2020 rover after it was relocated for testing.\"),\n",
       " (\"HiRISE Views NASA's InSight and Curiosity on Mars\",\n",
       "  'New images taken from space offer the clearest orbital glimpse yet of InSight as well as a view of Curiosity rolling along.'),\n",
       " (\"NASA's Curiosity Rover Finds an Ancient Oasis on Mars\",\n",
       "  \"New evidence suggests salty, shallow ponds once dotted a Martian crater — a sign of the planet's drying climate.\"),\n",
       " (\"NASA's Mars 2020 Rover Tests Descent-Stage Separation\",\n",
       "  \"A crane lifts the rocket-powered descent stage away from NASA's Mars 2020 rover after technicians tested the pyrotechnic charges that separate the two spacecraft.\"),\n",
       " (\"NASA's Push to Save the Mars InSight Lander's Heat Probe\",\n",
       "  \"The scoop on the end of the spacecraft's robotic arm will be used to 'pin' the mole against the wall of its hole.\"),\n",
       " (\"NASA's InSight 'Hears' Peculiar Sounds on Mars\",\n",
       "  'Listen to the marsquakes and other, less-expected sounds that the Mars lander has been detecting.'),\n",
       " ('NASA Mars Mission Connects With Bosnian and Herzegovinian Town',\n",
       "  'A letter from NASA was presented to the mayor of Jezero, Bosnia-Herzegovina, honoring the connection between the town and Jezero Crater, the Mars 2020 rover landing site.'),\n",
       " (\"Deadline Closing for Names to Fly on NASA's Next Mars Rover\",\n",
       "  'You have until Sept. 30 to send your names to Mars aboard the Mars 2020 rover. ')]"
      ]
     },
     "execution_count": 45,
     "metadata": {},
     "output_type": "execute_result"
    }
   ],
   "source": [
    "# Extract titles and text from divs\n",
    "news_title = [\n",
    "    tag.text\n",
    "    for tag in [li for ul in soup for li in ul.findAll(\"div\", class_=\"content_title\")]\n",
    "]\n",
    "\n",
    "news_p = [\n",
    "    tag.text\n",
    "    for tag in [\n",
    "        li for ul in soup for li in ul.findAll(\"div\", class_=\"article_teaser_body\")\n",
    "    ]\n",
    "]\n",
    "\n",
    "div_list = list(zip(news_title, news_p))\n",
    "div_list"
   ]
  },
  {
   "cell_type": "code",
   "execution_count": null,
   "metadata": {},
   "outputs": [],
   "source": [
    "# _li = soup.find('li', {'class':'list'})\n",
    "# results = [[i.text for i in b.find_all('li')] for b in _div.find_all('ul')]\n",
    "\n",
    "# results\n",
    "\n",
    "# div_dict = {\n",
    "#     [\n",
    "#     li\n",
    "#         for ul in soup\n",
    "#         for li in ul.findAll(\n",
    "#             \"div\", class_=\"content_title\"\n",
    "#         )\n",
    "#     ]\n",
    "#     ,\n",
    "#     [\n",
    "#     li\n",
    "#         for ul in soup\n",
    "#         for li in ul.findAll(\n",
    "#             \"div\", {\"class\": \"article_teaser_body\"}\n",
    "#         )\n",
    "#     ]\n",
    "# }\n",
    "\n",
    "# div_p = [li for ul in soup for li in ul.findAll(\"div\", class_=\"article_teaser_body\")]\n"
   ]
  }
 ],
 "metadata": {
  "kernel_info": {
   "name": "python3"
  },
  "kernelspec": {
   "display_name": "labs",
   "language": "python",
   "name": "labs"
  },
  "language_info": {
   "codemirror_mode": {
    "name": "ipython",
    "version": 3
   },
   "file_extension": ".py",
   "mimetype": "text/x-python",
   "name": "python",
   "nbconvert_exporter": "python",
   "pygments_lexer": "ipython3",
   "version": "3.7.4"
  },
  "nteract": {
   "version": "0.12.3"
  },
  "varInspector": {
   "cols": {
    "lenName": 16,
    "lenType": 16,
    "lenVar": 40
   },
   "kernels_config": {
    "python": {
     "delete_cmd_postfix": "",
     "delete_cmd_prefix": "del ",
     "library": "var_list.py",
     "varRefreshCmd": "print(var_dic_list())"
    },
    "r": {
     "delete_cmd_postfix": ") ",
     "delete_cmd_prefix": "rm(",
     "library": "var_list.r",
     "varRefreshCmd": "cat(var_dic_list()) "
    }
   },
   "types_to_exclude": [
    "module",
    "function",
    "builtin_function_or_method",
    "instance",
    "_Feature"
   ],
   "window_display": false
  }
 },
 "nbformat": 4,
 "nbformat_minor": 4
}
