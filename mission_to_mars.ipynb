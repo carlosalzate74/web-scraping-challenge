{
 "cells": [
  {
   "cell_type": "markdown",
   "metadata": {},
   "source": [
    "# Mision To Mars"
   ]
  },
  {
   "cell_type": "code",
   "execution_count": 1,
   "metadata": {},
   "outputs": [],
   "source": [
    "%reload_ext lab_black"
   ]
  },
  {
   "cell_type": "code",
   "execution_count": 2,
   "metadata": {},
   "outputs": [],
   "source": [
    "import requests\n",
    "import pandas as pd\n",
    "from bs4 import BeautifulSoup\n",
    "from selenium import webdriver"
   ]
  },
  {
   "cell_type": "markdown",
   "metadata": {},
   "source": [
    "# NASA Mars News"
   ]
  },
  {
   "cell_type": "code",
   "execution_count": 4,
   "metadata": {},
   "outputs": [],
   "source": [
    "# Define NASA News url\n",
    "NASA_URL = \"https://mars.nasa.gov/news/?page=0&per_page=40&order=publish_date+desc%2Ccreated_at+desc&search=&category=19%2C165%2C184%2C204&blank_scope=Latest\"\n",
    "\n",
    "driver = webdriver.Firefox()\n",
    "driver.get(NASA_URL)\n",
    "driver.implicitly_wait(10)\n",
    "nasa_html = driver.page_source\n",
    "driver.close()\n",
    "\n",
    "# Loading page\n",
    "nasa_soup = BeautifulSoup(nasa_html, \"lxml\")"
   ]
  },
  {
   "cell_type": "code",
   "execution_count": 5,
   "metadata": {},
   "outputs": [
    {
     "data": {
      "text/plain": [
       "[('The MarCO Mission Comes to an End',\n",
       "  'The pair of briefcase-sized satellites made history when they sailed past Mars in 2019.',\n",
       "  'https://mars.nasa.gov/system/news_items/main_images/8408_22206_PIA22655-th.gif')]"
      ]
     },
     "execution_count": 5,
     "metadata": {},
     "output_type": "execute_result"
    }
   ],
   "source": [
    "# Extract titles and text from divs\n",
    "news_title = [\n",
    "    tag.text\n",
    "    for tag in [\n",
    "        li for ul in nasa_soup for li in ul.findAll(\"div\", class_=\"content_title\")[0]\n",
    "    ]\n",
    "]\n",
    "\n",
    "news_p = [\n",
    "    tag.text\n",
    "    for tag in [\n",
    "        li for ul in nasa_soup for li in ul.findAll(\"div\", class_=\"article_teaser_body\")\n",
    "    ]\n",
    "]\n",
    "\n",
    "image_url = [\n",
    "    \"https://mars.nasa.gov\"\n",
    "    + tag.img[\"src\"].replace(\"list_view\", \"main\").replace(\"320x240\", \"web\")\n",
    "    for tag in [li for ul in nasa_soup for li in ul.findAll(\"div\", class_=\"list_image\")]\n",
    "]\n",
    "\n",
    "nasa_result = list(zip(news_title, news_p, image_url))\n",
    "nasa_result"
   ]
  },
  {
   "cell_type": "code",
   "execution_count": 6,
   "metadata": {},
   "outputs": [
    {
     "data": {
      "text/plain": [
       "'https://mars.nasa.gov/system/news_items/main_images/8408_22206_PIA22655-th.gif'"
      ]
     },
     "execution_count": 6,
     "metadata": {},
     "output_type": "execute_result"
    }
   ],
   "source": [
    "# Extract featured image url\n",
    "featured_image_url = nasa_result[0][2]\n",
    "featured_image_url"
   ]
  },
  {
   "cell_type": "markdown",
   "metadata": {},
   "source": [
    "# Twitter Mars Weather"
   ]
  },
  {
   "cell_type": "code",
   "execution_count": 7,
   "metadata": {},
   "outputs": [],
   "source": [
    "# Define Twitter Mars Report url\n",
    "MARS_WEATHER_URL = \"https://twitter.com/marswxreport?lang=en\"\n",
    "\n",
    "# Loading page\n",
    "response = requests.get(MARS_WEATHER_URL)\n",
    "mars_weather_soup = BeautifulSoup(response.text, \"html.parser\")"
   ]
  },
  {
   "cell_type": "code",
   "execution_count": 8,
   "metadata": {},
   "outputs": [
    {
     "data": {
      "text/plain": [
       "'\\nInSight sol 445 (2020-02-26) low -92.8ºC (-135.0ºF) high -12.8ºC (8.9ºF)\\nwinds from the SSE at 5.9 m/s (13.3 mph) gusting to 21.1 m/s (47.3 mph)\\npressure at 6.30 hPa\\n'"
      ]
     },
     "execution_count": 8,
     "metadata": {},
     "output_type": "execute_result"
    }
   ],
   "source": [
    "# Finding last tweet\n",
    "mars_weather_soup.find(\"a\", {\"class\": \"twitter-timeline-link u-hidden\"}).decompose()\n",
    "tweet = mars_weather_soup.find(\"div\", class_=\"js-tweet-text-container\").text\n",
    "\n",
    "tweet"
   ]
  },
  {
   "cell_type": "markdown",
   "metadata": {},
   "source": [
    "# Mars Space Facts"
   ]
  },
  {
   "cell_type": "code",
   "execution_count": 9,
   "metadata": {},
   "outputs": [],
   "source": [
    "# Define Space Facts url\n",
    "MARS_FACTS_URL = \"https://space-facts.com/mars/\"\n",
    "\n",
    "# Loading page\n",
    "response = requests.get(MARS_FACTS_URL)\n",
    "mars_facts_soup = BeautifulSoup(response.text, \"html.parser\")"
   ]
  },
  {
   "cell_type": "code",
   "execution_count": 10,
   "metadata": {},
   "outputs": [
    {
     "data": {
      "text/plain": [
       "'<table class=\"tablepress tablepress-id-p-mars\" id=\"tablepress-p-mars\"><tbody><tr class=\"row-1 odd\"><td class=\"column-1\"><strong>Equatorial Diameter:</strong></td><td class=\"column-2\">6,792 km<br/></td></tr><tr class=\"row-2 even\"><td class=\"column-1\"><strong>Polar Diameter:</strong></td><td class=\"column-2\">6,752 km<br/></td></tr><tr class=\"row-3 odd\"><td class=\"column-1\"><strong>Mass:</strong></td><td class=\"column-2\">6.39 × 10^23 kg<br/> (0.11 Earths)</td></tr><tr class=\"row-4 even\"><td class=\"column-1\"><strong>Moons:</strong></td><td class=\"column-2\">2 (<a href=\"https://space-facts.com/moons/phobos/\">Phobos</a> &amp; <a href=\"https://space-facts.com/moons/deimos/\">Deimos</a>)</td></tr><tr class=\"row-5 odd\"><td class=\"column-1\"><strong>Orbit Distance:</strong></td><td class=\"column-2\">227,943,824 km<br/> (1.38 AU)</td></tr><tr class=\"row-6 even\"><td class=\"column-1\"><strong>Orbit Period:</strong></td><td class=\"column-2\">687 days (1.9 years)<br/></td></tr><tr class=\"row-7 odd\"><td class=\"column-1\"><strong>Surface Temperature: </strong></td><td class=\"column-2\">-87 to -5 °C</td></tr><tr class=\"row-8 even\"><td class=\"column-1\"><strong>First Record:</strong></td><td class=\"column-2\">2nd millennium BC</td></tr><tr class=\"row-9 odd\"><td class=\"column-1\"><strong>Recorded By:</strong></td><td class=\"column-2\">Egyptian astronomers</td></tr></tbody></table>'"
      ]
     },
     "execution_count": 10,
     "metadata": {},
     "output_type": "execute_result"
    }
   ],
   "source": [
    "# Getting the facts about Mars\n",
    "facts = f'{mars_facts_soup.find(\"table\", class_=\"tablepress tablepress-id-p-mars\")}'\n",
    "facts"
   ]
  },
  {
   "cell_type": "markdown",
   "metadata": {},
   "source": [
    "# Mars Hemispheres"
   ]
  },
  {
   "cell_type": "code",
   "execution_count": 13,
   "metadata": {},
   "outputs": [
    {
     "name": "stdout",
     "output_type": "stream",
     "text": [
      "[{'title': 'Cerberus Hemisphere Enhanced', 'img_url': 'http://astropedia.astrogeology.usgs.gov/download/Mars/Viking/cerberus_enhanced.tif/full.jpg'}, {'title': 'Schiaparelli Hemisphere Enhanced', 'img_url': 'http://astropedia.astrogeology.usgs.gov/download/Mars/Viking/schiaparelli_enhanced.tif/full.jpg'}, {'title': 'Syrtis Major Hemisphere Enhanced', 'img_url': 'http://astropedia.astrogeology.usgs.gov/download/Mars/Viking/syrtis_major_enhanced.tif/full.jpg'}, {'title': 'Valles Marineris Hemisphere Enhanced', 'img_url': 'http://astropedia.astrogeology.usgs.gov/download/Mars/Viking/valles_marineris_enhanced.tif/full.jpg'}]\n"
     ]
    }
   ],
   "source": [
    "# Define Astrogeology url\n",
    "MARS_HEM_URL = \"https://astrogeology.usgs.gov/search/results?q=hemisphere+enhanced&k1=target&v1=Mars\"\n",
    "\n",
    "driver = webdriver.Firefox()\n",
    "driver.get(MARS_HEM_URL)\n",
    "driver.implicitly_wait(10)\n",
    "\n",
    "# Create and empty list\n",
    "hem_list = []\n",
    "\n",
    "# Find all the links\n",
    "links = driver.find_elements_by_class_name(\"thumb\")\n",
    "\n",
    "# Loop through the links, click on each and extract title and image url into a list of dicts\n",
    "for l in range(len(links)):\n",
    "    driver.find_elements_by_class_name(\"thumb\")[l].click()\n",
    "\n",
    "    title = driver.find_element_by_class_name(\"title\")\n",
    "    image_url = driver.find_element_by_link_text(\"Sample\")\n",
    "\n",
    "    hem_list.append({\"title\": title.text, \"img_url\": image_url.get_attribute(\"href\")})\n",
    "    driver.back()\n",
    "\n",
    "print(hem_list)\n",
    "driver.close()"
   ]
  },
  {
   "cell_type": "code",
   "execution_count": null,
   "metadata": {},
   "outputs": [],
   "source": []
  }
 ],
 "metadata": {
  "kernel_info": {
   "name": "python3"
  },
  "kernelspec": {
   "display_name": "labs",
   "language": "python",
   "name": "labs"
  },
  "language_info": {
   "codemirror_mode": {
    "name": "ipython",
    "version": 3
   },
   "file_extension": ".py",
   "mimetype": "text/x-python",
   "name": "python",
   "nbconvert_exporter": "python",
   "pygments_lexer": "ipython3",
   "version": "3.7.4"
  },
  "nteract": {
   "version": "0.12.3"
  },
  "varInspector": {
   "cols": {
    "lenName": 16,
    "lenType": 16,
    "lenVar": 40
   },
   "kernels_config": {
    "python": {
     "delete_cmd_postfix": "",
     "delete_cmd_prefix": "del ",
     "library": "var_list.py",
     "varRefreshCmd": "print(var_dic_list())"
    },
    "r": {
     "delete_cmd_postfix": ") ",
     "delete_cmd_prefix": "rm(",
     "library": "var_list.r",
     "varRefreshCmd": "cat(var_dic_list()) "
    }
   },
   "types_to_exclude": [
    "module",
    "function",
    "builtin_function_or_method",
    "instance",
    "_Feature"
   ],
   "window_display": false
  }
 },
 "nbformat": 4,
 "nbformat_minor": 4
}
