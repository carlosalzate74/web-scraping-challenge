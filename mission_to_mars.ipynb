{
 "cells": [
  {
   "cell_type": "markdown",
   "metadata": {},
   "source": [
    "# Mision To Mars"
   ]
  },
  {
   "cell_type": "code",
   "execution_count": 40,
   "metadata": {},
   "outputs": [],
   "source": [
    "%reload_ext lab_black"
   ]
  },
  {
   "cell_type": "code",
   "execution_count": 41,
   "metadata": {},
   "outputs": [],
   "source": [
    "import requests\n",
    "import pandas as pd\n",
    "from bs4 import BeautifulSoup"
   ]
  },
  {
   "cell_type": "markdown",
   "metadata": {},
   "source": [
    "# Reflect Tables into SQLAlchemy ORM"
   ]
  },
  {
   "cell_type": "code",
   "execution_count": 47,
   "metadata": {},
   "outputs": [],
   "source": [
    "# Define NASA News url\n",
    "NASA_URL = \"https://mars.nasa.gov/news/?page=0&per_page=40&order=publish_date+desc%2Ccreated_at+desc&search=&category=19%2C165%2C184%2C204&blank_scope=Latest\"\n",
    "\n",
    "# Loading page\n",
    "response = requests.get(NASA_URL)\n",
    "nasa_soup = BeautifulSoup(nasa_html, \"lxml\")"
   ]
  },
  {
   "cell_type": "code",
   "execution_count": 48,
   "metadata": {},
   "outputs": [
    {
     "data": {
      "text/plain": [
       "[(\"A Year of Surprising Science From NASA's InSight Mars Mission\",\n",
       "  \"A batch of new papers summarizes the lander's findings above and below the surface of the Red Planet.\",\n",
       "  'https://mars.nasa.gov/system/news_items/main_images/8613_InSight-Nature-papers-web.jpg')]"
      ]
     },
     "execution_count": 48,
     "metadata": {},
     "output_type": "execute_result"
    }
   ],
   "source": [
    "# Extract titles and text from divs\n",
    "news_title = [\n",
    "    tag.text\n",
    "    for tag in [\n",
    "        li for ul in nasa_soup for li in ul.findAll(\"div\", class_=\"content_title\")[0]\n",
    "    ]\n",
    "]\n",
    "\n",
    "news_p = [\n",
    "    tag.text\n",
    "    for tag in [\n",
    "        li for ul in nasa_soup for li in ul.findAll(\"div\", class_=\"article_teaser_body\")\n",
    "    ]\n",
    "]\n",
    "\n",
    "image_url = [\n",
    "    \"https://mars.nasa.gov\"\n",
    "    + tag.img[\"src\"].replace(\"list_view\", \"main\").replace(\"320x240\", \"web\")\n",
    "    for tag in [li for ul in nasa_soup for li in ul.findAll(\"div\", class_=\"list_image\")]\n",
    "]\n",
    "\n",
    "nasa_result = list(zip(news_title, news_p, image_url))\n",
    "nasa_result"
   ]
  },
  {
   "cell_type": "code",
   "execution_count": 44,
   "metadata": {},
   "outputs": [
    {
     "data": {
      "text/plain": [
       "'https://mars.nasa.gov/system/news_items/main_images/8613_InSight-Nature-papers-web.jpg'"
      ]
     },
     "execution_count": 44,
     "metadata": {},
     "output_type": "execute_result"
    }
   ],
   "source": [
    "# Extract featured image url\n",
    "featured_image_url = nasa_result[0][2]\n",
    "featured_image_url"
   ]
  },
  {
   "cell_type": "code",
   "execution_count": 62,
   "metadata": {},
   "outputs": [],
   "source": [
    "# Define Twitter Mars Report url\n",
    "MARS_WEATHER_URL = \"https://twitter.com/marswxreport?lang=en\"\n",
    "\n",
    "# Loading page\n",
    "response = requests.get(MARS_WEATHER_URL)\n",
    "mars_weather_soup = BeautifulSoup(response.text, \"lxml\")"
   ]
  },
  {
   "cell_type": "code",
   "execution_count": 65,
   "metadata": {},
   "outputs": [
    {
     "data": {
      "text/plain": [
       "'\\nInSight sol 444 (2020-02-25) low -93.8ºC (-136.8ºF) high -12.0ºC (10.5ºF)\\nwinds from the SSW at 6.2 m/s (13.9 mph) gusting to 21.2 m/s (47.4 mph)\\npressure at 6.30 hPa\\n'"
      ]
     },
     "execution_count": 65,
     "metadata": {},
     "output_type": "execute_result"
    }
   ],
   "source": [
    "# Finding last tweet\n",
    "mars_weather_soup.find(\"a\", {\"class\": \"twitter-timeline-link u-hidden\"}).decompose()\n",
    "tweet = mars_weather_soup.find(\"div\", class_=\"js-tweet-text-container\").text\n",
    "\n",
    "tweet"
   ]
  },
  {
   "cell_type": "code",
   "execution_count": null,
   "metadata": {},
   "outputs": [],
   "source": []
  }
 ],
 "metadata": {
  "kernel_info": {
   "name": "python3"
  },
  "kernelspec": {
   "display_name": "labs",
   "language": "python",
   "name": "labs"
  },
  "language_info": {
   "codemirror_mode": {
    "name": "ipython",
    "version": 3
   },
   "file_extension": ".py",
   "mimetype": "text/x-python",
   "name": "python",
   "nbconvert_exporter": "python",
   "pygments_lexer": "ipython3",
   "version": "3.7.4"
  },
  "nteract": {
   "version": "0.12.3"
  },
  "varInspector": {
   "cols": {
    "lenName": 16,
    "lenType": 16,
    "lenVar": 40
   },
   "kernels_config": {
    "python": {
     "delete_cmd_postfix": "",
     "delete_cmd_prefix": "del ",
     "library": "var_list.py",
     "varRefreshCmd": "print(var_dic_list())"
    },
    "r": {
     "delete_cmd_postfix": ") ",
     "delete_cmd_prefix": "rm(",
     "library": "var_list.r",
     "varRefreshCmd": "cat(var_dic_list()) "
    }
   },
   "types_to_exclude": [
    "module",
    "function",
    "builtin_function_or_method",
    "instance",
    "_Feature"
   ],
   "window_display": false
  }
 },
 "nbformat": 4,
 "nbformat_minor": 4
}
